{
 "cells": [
  {
   "cell_type": "code",
   "execution_count": 1,
   "metadata": {},
   "outputs": [
    {
     "name": "stdout",
     "output_type": "stream",
     "text": [
      "Requirement already satisfied: causalvis in c:\\users\\adams\\miniconda3\\envs\\causal_test\\lib\\site-packages (0.1.0a0)\n",
      "Requirement already satisfied: ipywidgets<9,>=7.6.0 in c:\\users\\adams\\miniconda3\\envs\\causal_test\\lib\\site-packages (from causalvis) (8.1.3)\n",
      "Requirement already satisfied: comm>=0.1.3 in c:\\users\\adams\\miniconda3\\envs\\causal_test\\lib\\site-packages (from ipywidgets<9,>=7.6.0->causalvis) (0.2.1)\n",
      "Requirement already satisfied: ipython>=6.1.0 in c:\\users\\adams\\miniconda3\\envs\\causal_test\\lib\\site-packages (from ipywidgets<9,>=7.6.0->causalvis) (8.15.0)\n",
      "Requirement already satisfied: traitlets>=4.3.1 in c:\\users\\adams\\miniconda3\\envs\\causal_test\\lib\\site-packages (from ipywidgets<9,>=7.6.0->causalvis) (5.14.3)\n",
      "Requirement already satisfied: widgetsnbextension~=4.0.11 in c:\\users\\adams\\miniconda3\\envs\\causal_test\\lib\\site-packages (from ipywidgets<9,>=7.6.0->causalvis) (4.0.11)\n",
      "Requirement already satisfied: jupyterlab-widgets~=3.0.11 in c:\\users\\adams\\miniconda3\\envs\\causal_test\\lib\\site-packages (from ipywidgets<9,>=7.6.0->causalvis) (3.0.11)\n",
      "Requirement already satisfied: backcall in c:\\users\\adams\\miniconda3\\envs\\causal_test\\lib\\site-packages (from ipython>=6.1.0->ipywidgets<9,>=7.6.0->causalvis) (0.2.0)\n",
      "Requirement already satisfied: decorator in c:\\users\\adams\\miniconda3\\envs\\causal_test\\lib\\site-packages (from ipython>=6.1.0->ipywidgets<9,>=7.6.0->causalvis) (5.1.1)\n",
      "Requirement already satisfied: jedi>=0.16 in c:\\users\\adams\\miniconda3\\envs\\causal_test\\lib\\site-packages (from ipython>=6.1.0->ipywidgets<9,>=7.6.0->causalvis) (0.18.1)\n",
      "Requirement already satisfied: matplotlib-inline in c:\\users\\adams\\miniconda3\\envs\\causal_test\\lib\\site-packages (from ipython>=6.1.0->ipywidgets<9,>=7.6.0->causalvis) (0.1.6)\n",
      "Requirement already satisfied: pickleshare in c:\\users\\adams\\miniconda3\\envs\\causal_test\\lib\\site-packages (from ipython>=6.1.0->ipywidgets<9,>=7.6.0->causalvis) (0.7.5)\n",
      "Requirement already satisfied: prompt-toolkit!=3.0.37,<3.1.0,>=3.0.30 in c:\\users\\adams\\miniconda3\\envs\\causal_test\\lib\\site-packages (from ipython>=6.1.0->ipywidgets<9,>=7.6.0->causalvis) (3.0.43)\n",
      "Requirement already satisfied: pygments>=2.4.0 in c:\\users\\adams\\miniconda3\\envs\\causal_test\\lib\\site-packages (from ipython>=6.1.0->ipywidgets<9,>=7.6.0->causalvis) (2.15.1)\n",
      "Requirement already satisfied: stack-data in c:\\users\\adams\\miniconda3\\envs\\causal_test\\lib\\site-packages (from ipython>=6.1.0->ipywidgets<9,>=7.6.0->causalvis) (0.2.0)\n",
      "Requirement already satisfied: typing-extensions in c:\\users\\adams\\miniconda3\\envs\\causal_test\\lib\\site-packages (from ipython>=6.1.0->ipywidgets<9,>=7.6.0->causalvis) (4.11.0)\n",
      "Requirement already satisfied: exceptiongroup in c:\\users\\adams\\miniconda3\\envs\\causal_test\\lib\\site-packages (from ipython>=6.1.0->ipywidgets<9,>=7.6.0->causalvis) (1.2.0)\n",
      "Requirement already satisfied: colorama in c:\\users\\adams\\miniconda3\\envs\\causal_test\\lib\\site-packages (from ipython>=6.1.0->ipywidgets<9,>=7.6.0->causalvis) (0.4.6)\n",
      "Requirement already satisfied: parso<0.9.0,>=0.8.0 in c:\\users\\adams\\miniconda3\\envs\\causal_test\\lib\\site-packages (from jedi>=0.16->ipython>=6.1.0->ipywidgets<9,>=7.6.0->causalvis) (0.8.3)\n",
      "Requirement already satisfied: wcwidth in c:\\users\\adams\\miniconda3\\envs\\causal_test\\lib\\site-packages (from prompt-toolkit!=3.0.37,<3.1.0,>=3.0.30->ipython>=6.1.0->ipywidgets<9,>=7.6.0->causalvis) (0.2.5)\n",
      "Requirement already satisfied: executing in c:\\users\\adams\\miniconda3\\envs\\causal_test\\lib\\site-packages (from stack-data->ipython>=6.1.0->ipywidgets<9,>=7.6.0->causalvis) (0.8.3)\n",
      "Requirement already satisfied: asttokens in c:\\users\\adams\\miniconda3\\envs\\causal_test\\lib\\site-packages (from stack-data->ipython>=6.1.0->ipywidgets<9,>=7.6.0->causalvis) (2.0.5)\n",
      "Requirement already satisfied: pure-eval in c:\\users\\adams\\miniconda3\\envs\\causal_test\\lib\\site-packages (from stack-data->ipython>=6.1.0->ipywidgets<9,>=7.6.0->causalvis) (0.2.2)\n",
      "Requirement already satisfied: six in c:\\users\\adams\\miniconda3\\envs\\causal_test\\lib\\site-packages (from asttokens->stack-data->ipython>=6.1.0->ipywidgets<9,>=7.6.0->causalvis) (1.16.0)\n"
     ]
    }
   ],
   "source": [
    "!pip install causalvis"
   ]
  },
  {
   "cell_type": "code",
   "execution_count": null,
   "metadata": {},
   "outputs": [],
   "source": [
    "import networkx as nx\n",
    "from causalvis import InteractiveDAG  # Use the correct import\n",
    "import matplotlib.pyplot as plt\n",
    "\n",
    "# Define the true graph creation function\n",
    "def create_true_graph_student():\n",
    "    G_true = nx.DiGraph()\n",
    "\n",
    "    pos = {\n",
    "        \"G_avg\": (0.207, -0.688),\n",
    "        \"Medu\": (-0.641, 0.589),\n",
    "        \"Pstatus\": (-1.699, -0.614),\n",
    "        \"absences\": (-1.531, 0.937),\n",
    "        \"address\": (-2.008, 1.450),\n",
    "        \"failures\": (0.873, 1.702),\n",
    "        \"famrel\": (-2.270, -0.747),\n",
    "        \"famsup\": (-1.316, -0.265),\n",
    "        \"health\": (-0.945, 0.076),\n",
    "        \"higher\": (-0.206, 0.589), \n",
    "        \"internet\": (0.302, 1.034),\n",
    "        \"paid\": (-0.243, -1.400),\n",
    "        \"schoolsup\": (0.867, -0.176),\n",
    "        \"studytime\": (0.799, -1.289)\n",
    "    }\n",
    "\n",
    "    for node, position in pos.items():\n",
    "        G_true.add_node(node, pos=position)\n",
    "\n",
    "    G_true.add_edges_from([\n",
    "        (\"Medu\", \"G_avg\"),\n",
    "        (\"Medu\", \"absences\"),\n",
    "        (\"Medu\", \"higher\"),\n",
    "        (\"Pstatus\", \"G_avg\"),\n",
    "        (\"Pstatus\", \"absences\"),\n",
    "        (\"Pstatus\", \"famrel\"),\n",
    "        (\"address\", \"absences\"),\n",
    "        (\"failures\", \"G_avg\"),\n",
    "        (\"failures\", \"absences\"),\n",
    "        (\"famsup\", \"G_avg\"),\n",
    "        (\"famsup\", \"absences\"),\n",
    "        (\"health\", \"G_avg\"),\n",
    "        (\"health\", \"absences\"),\n",
    "        (\"higher\", \"G_avg\"),\n",
    "        (\"internet\", \"G_avg\"),\n",
    "        (\"internet\", \"absences\"),\n",
    "        (\"paid\", \"G_avg\"),\n",
    "        (\"schoolsup\", \"G_avg\"),\n",
    "        (\"studytime\", \"G_avg\")\n",
    "    ])\n",
    "\n",
    "    return G_true\n",
    "\n",
    "# Create the true graph\n",
    "G_true = create_true_graph_student()"
   ]
  },
  {
   "cell_type": "code",
   "execution_count": null,
   "metadata": {},
   "outputs": [],
   "source": [
    "# Visualize using causalvis\n",
    "interactive_dag = InteractiveDAG(G_true)\n",
    "interactive_dag.show()"
   ]
  }
 ],
 "metadata": {
  "kernelspec": {
   "display_name": "Python 3",
   "language": "python",
   "name": "python3"
  },
  "language_info": {
   "codemirror_mode": {
    "name": "ipython",
    "version": 3
   },
   "file_extension": ".py",
   "mimetype": "text/x-python",
   "name": "python",
   "nbconvert_exporter": "python",
   "pygments_lexer": "ipython3",
   "version": "3.9.19"
  }
 },
 "nbformat": 4,
 "nbformat_minor": 2
}
