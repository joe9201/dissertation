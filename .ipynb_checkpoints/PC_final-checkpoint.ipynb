{
 "cells": [
  {
   "cell_type": "code",
   "execution_count": 6,
   "id": "b24356fa-23c5-4ab6-a821-18711bbf34ee",
   "metadata": {},
   "outputs": [],
   "source": [
    "import os\n",
    "import random\n",
    "import numpy as np\n",
    "import pandas as pd\n",
    "import networkx as nx\n",
    "from causallearn.search.ConstraintBased.PC import pc\n",
    "from causallearn.utils.cit import kci\n",
    "from causallearn.utils.cit import fisherz\n",
    "from plotting_utils import causal_learn_to_networkx, plot_and_save_graph\n",
    "from data_preparation import load_and_prepare_student_data, load_and_prepare_adult_data\n",
    "from true_graph import create_true_graph_student, create_true_graph_student_small, create_true_graph_adult, create_true_graph_adult_small\n",
    "from evaluation import evaluate_graph"
   ]
  },
  {
   "cell_type": "code",
   "execution_count": 7,
   "id": "57f4e083-62fc-4c02-9c75-ca894ea612d3",
   "metadata": {},
   "outputs": [],
   "source": [
    "def set_random_seed(seed):\n",
    "    random.seed(seed)\n",
    "    np.random.seed(seed)\n",
    "    os.environ['PYTHONHASHSEED'] = str(seed)"
   ]
  },
  {
   "cell_type": "code",
   "execution_count": null,
   "id": "b6bdf0d9-884a-41f3-a665-387fac1e377f",
   "metadata": {},
   "outputs": [],
   "source": [
    "def run_pc_algorithm(data, labels, alpha=0.01, stable=True, uc_rule=2, seed=None):\n",
    "    \"\"\"Runs the PC algorithm and returns the estimated causal graph.\"\"\"\n",
    "    if seed is not None:\n",
    "        set_random_seed(seed)\n",
    "    \n",
    "    # Convert boolean columns to floats\n",
    "    data = data.astype(float)\n",
    "\n",
    "    try:\n",
    "        print(f\"Running PC algorithm with alpha={alpha}, stable={stable}, uc_rule={uc_rule}\")\n",
    "        cg_pc = pc(data, alpha=alpha, stable=stable, uc_rule=uc_rule, indep_test=fisherz)\n",
    "\n",
    "        # Convert CausalLearn GeneralGraph to NetworkX DiGraph using the utility function\n",
    "        nx_graph = causal_learn_to_networkx(cg_pc.G)\n",
    "\n",
    "        # Ensure the graph is a DAG by removing bidirectional edges\n",
    "        bidirectional_edges = [(u, v) for u, v in nx_graph.edges if nx_graph.has_edge(v, u)]\n",
    "        for u, v in bidirectional_edges:\n",
    "            nx_graph.remove_edge(v, u)\n",
    "\n",
    "        return nx_graph\n",
    "    except Exception as e:\n",
    "        print(f\"Error running PC algorithm: {e}\")\n",
    "        raise"
   ]
  },
  {
   "cell_type": "code",
   "execution_count": 14,
   "id": "e848b273-2b9b-4b86-8c69-bf44f0e4c50d",
   "metadata": {},
   "outputs": [],
   "source": [
    "def main():\n",
    "    # Specify dataset\n",
    "    dataset = 'adult_small'  # Change to 'adult', 'adult_small', 'student', or 'student_small'\n",
    "    \n",
    "    if dataset == 'adult':\n",
    "        data_file = 'data/processed_adult.csv'\n",
    "        df_encoded = pd.read_csv(data_file)\n",
    "        labels = df_encoded.columns.tolist()\n",
    "        data = df_encoded.to_numpy()\n",
    "        true_graph = create_true_graph_adult()\n",
    "\n",
    "    elif dataset == 'adult_small':\n",
    "        data_file = 'data/processed_adult_small.csv'\n",
    "        df_encoded = pd.read_csv(data_file)\n",
    "        labels = df_encoded.columns.tolist()\n",
    "        data = df_encoded.to_numpy()\n",
    "        true_graph = create_true_graph_adult_small()\n",
    "\n",
    "    elif dataset == 'student':\n",
    "        data_file = 'data/processed_student.csv'\n",
    "        df_encoded = pd.read_csv(data_file)\n",
    "        labels = df_encoded.columns.tolist()\n",
    "        data = df_encoded.to_numpy()\n",
    "        true_graph = create_true_graph_student()\n",
    "\n",
    "    elif dataset == 'student_small':\n",
    "        data_file = 'data/processed_student_small.csv'\n",
    "        df_encoded = pd.read_csv(data_file)\n",
    "        labels = df_encoded.columns.tolist()\n",
    "        data = df_encoded.to_numpy()\n",
    "        true_graph = create_true_graph_student_small()\n",
    "\n",
    "    else:\n",
    "        raise ValueError(\"Invalid dataset specified. Choose 'adult', 'adult_small', 'student', or 'student_small'.\")\n",
    "\n",
    "    print(f\"Processing dataset: {dataset}\")\n",
    "\n",
    "    # Run the PC algorithm with different parameters for testing variability\n",
    "    estimated_graph_1 = run_pc_algorithm(data, labels, alpha=0.05, stable=True, uc_rule=0, seed=42)\n",
    "\n",
    "    # Plot the first estimated graph\n",
    "    plot_and_save_graph(estimated_graph_1, labels, 'causal_graph_first_run')\n",
    "\n",
    "    # Run again with a different parameter for variability\n",
    "    estimated_graph_2 = run_pc_algorithm(data, labels, alpha=0.05, stable=True, uc_rule=1, seed=42)\n",
    "\n",
    "    # Plot the second estimated graph\n",
    "    plot_and_save_graph(estimated_graph_2, labels, 'causal_graph_second_run')\n",
    "\n",
    "    # Evaluate the first estimated graph\n",
    "    shd_1, recall_1, precision_1 = evaluate_graph(estimated_graph_1, true_graph)\n",
    "    print(\"Evaluation of the first estimated graph:\")\n",
    "    print(f\"Structural Hamming Distance (SHD): {shd_1}\")\n",
    "    print(f\"Recall: {recall_1}\")\n",
    "    print(f\"Precision: {precision_1}\")\n",
    "\n",
    "    # Evaluate the second estimated graph\n",
    "    shd_2, recall_2, precision_2 = evaluate_graph(estimated_graph_2, true_graph)\n",
    "    print(\"Evaluation of the second estimated graph:\")\n",
    "    print(f\"Structural Hamming Distance (SHD): {shd_2}\")\n",
    "    print(f\"Recall: {recall_2}\")\n",
    "    print(f\"Precision: {precision_2}\")\n",
    "\n",
    "    return estimated_graph_2"
   ]
  },
  {
   "cell_type": "code",
   "execution_count": null,
   "id": "6eb72222-44c2-4de6-bfb6-e24a728cb7e4",
   "metadata": {},
   "outputs": [
    {
     "name": "stdout",
     "output_type": "stream",
     "text": [
      "Processing dataset: adult_small\n",
      "Running PC algorithm with alpha=0.01, stable=False, uc_rule=0\n"
     ]
    },
    {
     "data": {
      "application/vnd.jupyter.widget-view+json": {
       "model_id": "948593bcdbbd4b26ae0184d27e4a533a",
       "version_major": 2,
       "version_minor": 0
      },
      "text/plain": [
       "  0%|          | 0/7 [00:00<?, ?it/s]"
      ]
     },
     "metadata": {},
     "output_type": "display_data"
    }
   ],
   "source": [
    "main()"
   ]
  },
  {
   "cell_type": "code",
   "execution_count": null,
   "id": "26adfcef-3d75-4535-9322-ceac22d003c0",
   "metadata": {},
   "outputs": [],
   "source": []
  }
 ],
 "metadata": {
  "kernelspec": {
   "display_name": "Python 3 (ipykernel)",
   "language": "python",
   "name": "python3"
  },
  "language_info": {
   "codemirror_mode": {
    "name": "ipython",
    "version": 3
   },
   "file_extension": ".py",
   "mimetype": "text/x-python",
   "name": "python",
   "nbconvert_exporter": "python",
   "pygments_lexer": "ipython3",
   "version": "3.9.19"
  }
 },
 "nbformat": 4,
 "nbformat_minor": 5
}
