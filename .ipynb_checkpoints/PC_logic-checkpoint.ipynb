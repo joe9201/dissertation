{
 "cells": [
  {
   "cell_type": "code",
   "execution_count": 34,
   "id": "d47783ab-1eb8-4784-b808-fbaa0fb5d9b6",
   "metadata": {},
   "outputs": [],
   "source": [
    "import os\n",
    "import random\n",
    "import numpy as np\n",
    "import networkx as nx\n",
    "from causallearn.search.ConstraintBased.PC import pc\n",
    "from causallearn.utils.cit import kci \n",
    "from causallearn.utils.cit import fisherz\n",
    "from causallearn.utils.PCUtils.BackgroundKnowledge import BackgroundKnowledge\n",
    "from causallearn.graph.Node import Node\n",
    "from plotting_utils import causal_learn_to_networkx, plot_and_save_graph\n",
    "from data_preparation import load_and_prepare_student_data, load_and_prepare_adult_data, apply_variable_mapping, student_variable_mapping\n",
    "from dag_utils import load_dag\n",
    "from true_graph import create_true_graph_student, create_true_graph_adult, plot_true_graph\n",
    "from evaluation import evaluate_graph"
   ]
  },
  {
   "cell_type": "code",
   "execution_count": 35,
   "id": "ce72f7cc-12bb-4bf8-8c3a-663b5aea879d",
   "metadata": {},
   "outputs": [],
   "source": [
    "def set_random_seed(seed):\n",
    "    \"\"\"Set random seed for reproducibility.\"\"\"\n",
    "    random.seed(seed)\n",
    "    np.random.seed(seed)\n",
    "    os.environ['PYTHONHASHSEED'] = str(seed)"
   ]
  },
  {
   "cell_type": "code",
   "execution_count": 40,
   "id": "0a26de10-10c4-4e40-9a44-d03ae547fdef",
   "metadata": {},
   "outputs": [],
   "source": [
    "def convert_labels_to_nodes(labels):\n",
    "    \"\"\"Converts a list of labels to a list of Node instances.\"\"\"\n",
    "    return [Node(i, label) for i, label in enumerate(labels)]"
   ]
  },
  {
   "cell_type": "code",
   "execution_count": 44,
   "id": "5b870952-f782-462c-af09-52abc2f8ad4d",
   "metadata": {},
   "outputs": [],
   "source": [
    "def run_pc_algorithm(data, labels, alpha=0.01, stable=True, uc_rule=2, root_nodes=None, seed=None):\n",
    "    \"\"\"\n",
    "    Runs the PC algorithm with optional background knowledge and returns the estimated causal graph.\n",
    "\n",
    "    Args:\n",
    "        data (numpy.ndarray): The dataset as a NumPy array.\n",
    "        labels (list): A list of string labels for the variables in the dataset.\n",
    "        alpha (float): Significance level for the conditional independence tests.\n",
    "        stable (bool): Whether to use the conservative PC (stable) algorithm.\n",
    "        uc_rule (int): The rule for handling unshielded colliders (0, 1, or 2).\n",
    "        root_nodes (list, optional): A list of node names that should be considered root nodes (no parents).\n",
    "        seed (int, optional): Seed for random number generators to ensure reproducibility.\n",
    "\n",
    "    Returns:\n",
    "        networkx.DiGraph: The estimated causal graph as a NetworkX DiGraph object.\n",
    "    \"\"\"\n",
    "    if seed is not None:\n",
    "        set_random_seed(seed)\n",
    "    \n",
    "    # Create background knowledge object\n",
    "    bk = BackgroundKnowledge()\n",
    "    \n",
    "    # Convert labels to Node instances\n",
    "    node_labels = convert_labels_to_nodes(labels)\n",
    "    node_dict = {label: node for label, node in zip(labels, node_labels)}\n",
    "\n",
    "    # Add forbidden edges to enforce root nodes (if specified)\n",
    "    if root_nodes:\n",
    "        for root_node in root_nodes:\n",
    "            for other_node in labels:\n",
    "                if other_node != root_node:\n",
    "                    bk.add_forbidden_by_node(node_dict[other_node], node_dict[root_node])\n",
    "\n",
    "    # Run PC algorithm with background knowledge\n",
    "    cg_pc = pc(data, alpha=alpha, indep_test=fisherz, stable=stable, uc_rule=uc_rule, background_knowledge=bk)\n",
    "\n",
    "    # Convert CausalLearn GeneralGraph to NetworkX DiGraph using the utility function\n",
    "    nx_graph = causal_learn_to_networkx(cg_pc.G)\n",
    "\n",
    "    # Ensure the graph is a DAG by removing bidirectional edges\n",
    "    bidirectional_edges = [(u, v) for u, v in nx_graph.edges if nx_graph.has_edge(v, u)]\n",
    "    for u, v in bidirectional_edges:\n",
    "        nx_graph.remove_edge(v, u)\n",
    "\n",
    "    return nx_graph"
   ]
  },
  {
   "cell_type": "code",
   "execution_count": 43,
   "id": "c233b9c9-215c-4781-870f-2eef1f9d9487",
   "metadata": {},
   "outputs": [],
   "source": [
    "def remove_causal_edges(graph, node_name):\n",
    "    \"\"\"\n",
    "    Remove all causal edges connected to a specific node.\n",
    "\n",
    "    Args:\n",
    "        graph (networkx.DiGraph): The causal graph.\n",
    "        node_name (str): The name of the node whose edges are to be removed.\n",
    "\n",
    "    Returns:\n",
    "        networkx.DiGraph: The modified causal graph with specified edges removed.\n",
    "    \"\"\"\n",
    "    edges_to_remove = list(graph.edges(node_name)) + list(graph.in_edges(node_name))\n",
    "    graph.remove_edges_from(edges_to_remove)\n",
    "    return graph"
   ]
  },
  {
   "cell_type": "code",
   "execution_count": 38,
   "id": "166f74ac-33e5-4c5d-8229-21072337b452",
   "metadata": {},
   "outputs": [],
   "source": [
    "def main():\n",
    "    # Specify dataset and root nodes\n",
    "    dataset = 'adult'  # Change to 'student' for the student dataset\n",
    "    data_file = 'data/adult_cleaned.csv' if dataset == 'adult' else 'data/student-por_raw.csv'\n",
    "    root_nodes = ['sex', 'age', 'race', 'native.country'] if dataset == 'adult' else ['Medu']\n",
    "\n",
    "    # Load and prepare data\n",
    "    if dataset == 'adult':\n",
    "        df_encoded, labels, data = load_and_prepare_adult_data(data_file)\n",
    "        true_graph = create_true_graph_adult()\n",
    "    else:\n",
    "        df_encoded, labels, data = load_and_prepare_student_data(data_file)\n",
    "        true_graph = create_true_graph_student()\n",
    "\n",
    "    # Run the PC algorithm with forbidden edges to enforce root nodes\n",
    "    estimated_graph_1 = run_pc_algorithm(data, labels, alpha=0.01, stable=True, uc_rule=0, root_nodes=root_nodes, seed=42)\n",
    "    print(\"First run completed.\")\n",
    "\n",
    "    # Remove all edges connected to a specific node\n",
    "    node_to_remove_edges = 'Medu' if dataset == 'student' else 'race'\n",
    "    estimated_graph_1 = remove_causal_edges(estimated_graph_1, node_to_remove_edges)\n",
    "    print(f\"Removed all edges connected to {node_to_remove_edges}\")\n",
    "\n",
    "    # Run again with a different parameter for variability\n",
    "    estimated_graph_2 = run_pc_algorithm(data, labels, alpha=0.01, stable=True, uc_rule=1, root_nodes=root_nodes, seed=42)\n",
    "    print(\"Second run with different parameter completed.\")\n",
    "\n",
    "    # Evaluate the first estimated graph\n",
    "    shd_1, recall_1, precision_1 = evaluate_graph(estimated_graph_1, true_graph)\n",
    "    print(\"Evaluation of the first estimated graph:\")\n",
    "    print(f\"Structural Hamming Distance (SHD): {shd_1}\")\n",
    "    print(f\"Recall: {recall_1}\")\n",
    "    print(f\"Precision: {precision_1}\")\n",
    "\n",
    "    # Evaluate the second estimated graph\n",
    "    shd_2, recall_2, precision_2 = evaluate_graph(estimated_graph_2, true_graph)\n",
    "    print(\"Evaluation of the second estimated graph:\")\n",
    "    print(f\"Structural Hamming Distance (SHD): {shd_2}\")\n",
    "    print(f\"Recall: {recall_2}\")\n",
    "    print(f\"Precision: {precision_2}\")\n",
    "\n",
    "    return estimated_graph_2"
   ]
  },
  {
   "cell_type": "code",
   "execution_count": 39,
   "id": "19dce68f-fd22-464e-b806-0246602474ec",
   "metadata": {},
   "outputs": [
    {
     "ename": "TypeError",
     "evalue": "Node() takes no arguments",
     "output_type": "error",
     "traceback": [
      "\u001b[1;31m---------------------------------------------------------------------------\u001b[0m",
      "\u001b[1;31mTypeError\u001b[0m                                 Traceback (most recent call last)",
      "Cell \u001b[1;32mIn[39], line 1\u001b[0m\n\u001b[1;32m----> 1\u001b[0m \u001b[43mmain\u001b[49m\u001b[43m(\u001b[49m\u001b[43m)\u001b[49m\n",
      "Cell \u001b[1;32mIn[38], line 16\u001b[0m, in \u001b[0;36mmain\u001b[1;34m()\u001b[0m\n\u001b[0;32m     13\u001b[0m     true_graph \u001b[38;5;241m=\u001b[39m create_true_graph_student()\n\u001b[0;32m     15\u001b[0m \u001b[38;5;66;03m# Run the PC algorithm with forbidden edges to enforce root nodes\u001b[39;00m\n\u001b[1;32m---> 16\u001b[0m estimated_graph_1 \u001b[38;5;241m=\u001b[39m \u001b[43mrun_pc_algorithm\u001b[49m\u001b[43m(\u001b[49m\u001b[43mdata\u001b[49m\u001b[43m,\u001b[49m\u001b[43m \u001b[49m\u001b[43mlabels\u001b[49m\u001b[43m,\u001b[49m\u001b[43m \u001b[49m\u001b[43malpha\u001b[49m\u001b[38;5;241;43m=\u001b[39;49m\u001b[38;5;241;43m0.01\u001b[39;49m\u001b[43m,\u001b[49m\u001b[43m \u001b[49m\u001b[43mstable\u001b[49m\u001b[38;5;241;43m=\u001b[39;49m\u001b[38;5;28;43;01mTrue\u001b[39;49;00m\u001b[43m,\u001b[49m\u001b[43m \u001b[49m\u001b[43muc_rule\u001b[49m\u001b[38;5;241;43m=\u001b[39;49m\u001b[38;5;241;43m0\u001b[39;49m\u001b[43m,\u001b[49m\u001b[43m \u001b[49m\u001b[43mroot_nodes\u001b[49m\u001b[38;5;241;43m=\u001b[39;49m\u001b[43mroot_nodes\u001b[49m\u001b[43m,\u001b[49m\u001b[43m \u001b[49m\u001b[43mseed\u001b[49m\u001b[38;5;241;43m=\u001b[39;49m\u001b[38;5;241;43m42\u001b[39;49m\u001b[43m)\u001b[49m\n\u001b[0;32m     17\u001b[0m \u001b[38;5;28mprint\u001b[39m(\u001b[38;5;124m\"\u001b[39m\u001b[38;5;124mFirst run completed.\u001b[39m\u001b[38;5;124m\"\u001b[39m)\n\u001b[0;32m     19\u001b[0m \u001b[38;5;66;03m# Run again with a different parameter for variability\u001b[39;00m\n",
      "Cell \u001b[1;32mIn[37], line 10\u001b[0m, in \u001b[0;36mrun_pc_algorithm\u001b[1;34m(data, labels, alpha, stable, uc_rule, root_nodes, seed)\u001b[0m\n\u001b[0;32m      7\u001b[0m bk \u001b[38;5;241m=\u001b[39m BackgroundKnowledge()\n\u001b[0;32m      9\u001b[0m \u001b[38;5;66;03m# Convert labels to Node instances\u001b[39;00m\n\u001b[1;32m---> 10\u001b[0m node_labels \u001b[38;5;241m=\u001b[39m \u001b[43mconvert_labels_to_nodes\u001b[49m\u001b[43m(\u001b[49m\u001b[43mlabels\u001b[49m\u001b[43m)\u001b[49m\n\u001b[0;32m     11\u001b[0m node_dict \u001b[38;5;241m=\u001b[39m {label: node \u001b[38;5;28;01mfor\u001b[39;00m label, node \u001b[38;5;129;01min\u001b[39;00m \u001b[38;5;28mzip\u001b[39m(labels, node_labels)}\n\u001b[0;32m     13\u001b[0m \u001b[38;5;66;03m# Add forbidden edges to enforce root nodes (if specified)\u001b[39;00m\n",
      "Cell \u001b[1;32mIn[36], line 3\u001b[0m, in \u001b[0;36mconvert_labels_to_nodes\u001b[1;34m(labels)\u001b[0m\n\u001b[0;32m      1\u001b[0m \u001b[38;5;28;01mdef\u001b[39;00m \u001b[38;5;21mconvert_labels_to_nodes\u001b[39m(labels):\n\u001b[0;32m      2\u001b[0m \u001b[38;5;250m    \u001b[39m\u001b[38;5;124;03m\"\"\"Converts a list of labels to a list of Node instances.\"\"\"\u001b[39;00m\n\u001b[1;32m----> 3\u001b[0m     \u001b[38;5;28;01mreturn\u001b[39;00m [Node(i, label) \u001b[38;5;28;01mfor\u001b[39;00m i, label \u001b[38;5;129;01min\u001b[39;00m \u001b[38;5;28menumerate\u001b[39m(labels)]\n",
      "Cell \u001b[1;32mIn[36], line 3\u001b[0m, in \u001b[0;36m<listcomp>\u001b[1;34m(.0)\u001b[0m\n\u001b[0;32m      1\u001b[0m \u001b[38;5;28;01mdef\u001b[39;00m \u001b[38;5;21mconvert_labels_to_nodes\u001b[39m(labels):\n\u001b[0;32m      2\u001b[0m \u001b[38;5;250m    \u001b[39m\u001b[38;5;124;03m\"\"\"Converts a list of labels to a list of Node instances.\"\"\"\u001b[39;00m\n\u001b[1;32m----> 3\u001b[0m     \u001b[38;5;28;01mreturn\u001b[39;00m [\u001b[43mNode\u001b[49m\u001b[43m(\u001b[49m\u001b[43mi\u001b[49m\u001b[43m,\u001b[49m\u001b[43m \u001b[49m\u001b[43mlabel\u001b[49m\u001b[43m)\u001b[49m \u001b[38;5;28;01mfor\u001b[39;00m i, label \u001b[38;5;129;01min\u001b[39;00m \u001b[38;5;28menumerate\u001b[39m(labels)]\n",
      "\u001b[1;31mTypeError\u001b[0m: Node() takes no arguments"
     ]
    }
   ],
   "source": [
    "main()"
   ]
  },
  {
   "cell_type": "code",
   "execution_count": null,
   "id": "d83e1756-2890-48a1-87e6-5cafaff3a8be",
   "metadata": {},
   "outputs": [],
   "source": []
  }
 ],
 "metadata": {
  "kernelspec": {
   "display_name": "Python 3 (ipykernel)",
   "language": "python",
   "name": "python3"
  },
  "language_info": {
   "codemirror_mode": {
    "name": "ipython",
    "version": 3
   },
   "file_extension": ".py",
   "mimetype": "text/x-python",
   "name": "python",
   "nbconvert_exporter": "python",
   "pygments_lexer": "ipython3",
   "version": "3.9.19"
  }
 },
 "nbformat": 4,
 "nbformat_minor": 5
}
