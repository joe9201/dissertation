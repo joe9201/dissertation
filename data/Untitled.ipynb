{
 "cells": [
  {
   "cell_type": "code",
   "execution_count": 3,
   "id": "d43e38a7-8101-458c-b31b-93345f636c3d",
   "metadata": {},
   "outputs": [],
   "source": [
    "import json\n",
    "from causalvis import DAG"
   ]
  },
  {
   "cell_type": "code",
   "execution_count": 4,
   "id": "a014bce1-e01c-4c94-8c5a-906dace58cbc",
   "metadata": {},
   "outputs": [
    {
     "data": {
      "application/vnd.jupyter.widget-view+json": {
       "model_id": "86aed71776c640c1afbb67388a770d28",
       "version_major": 2,
       "version_minor": 0
      },
      "text/plain": [
       "DAG(component='DAG', props={'attributes': [], 'graph': None})"
      ]
     },
     "execution_count": 4,
     "metadata": {},
     "output_type": "execute_result"
    }
   ],
   "source": [
    "DAG()"
   ]
  },
  {
   "cell_type": "code",
   "execution_count": null,
   "id": "17e0d694-7614-4520-bc6f-159c6979544b",
   "metadata": {},
   "outputs": [],
   "source": []
  }
 ],
 "metadata": {
  "kernelspec": {
   "display_name": "Python 3 (ipykernel)",
   "language": "python",
   "name": "python3"
  },
  "language_info": {
   "codemirror_mode": {
    "name": "ipython",
    "version": 3
   },
   "file_extension": ".py",
   "mimetype": "text/x-python",
   "name": "python",
   "nbconvert_exporter": "python",
   "pygments_lexer": "ipython3",
   "version": "3.9.19"
  }
 },
 "nbformat": 4,
 "nbformat_minor": 5
}
