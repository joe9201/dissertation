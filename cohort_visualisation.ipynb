{
 "cells": [
  {
   "cell_type": "code",
   "execution_count": 1,
   "id": "f300957e-c30a-4a5d-880c-5bd2e525a364",
   "metadata": {},
   "outputs": [],
   "source": [
    "import os\n",
    "import json\n",
    "import numpy as np\n",
    "import pandas as pd\n",
    "from sklearn.linear_model import LogisticRegression\n",
    "from causallib.estimation import IPW\n",
    "from causalvis import CohortEvaluator, TreatmentEffectExplorer\n",
    "from data_preparation import apply_variable_mapping, student_variable_mapping\n",
    "from matching import perform_matching\n",
    "from dag_utils import load_dag"
   ]
  },
  {
   "cell_type": "code",
   "execution_count": 2,
   "id": "c35da220-5cb2-4642-b6d0-b3c62a6574de",
   "metadata": {},
   "outputs": [],
   "source": [
    "def convert_types(data):\n",
    "    if isinstance(data, dict):\n",
    "        return {k: convert_types(v) for k, v in data.items()}\n",
    "    elif isinstance(data, list):\n",
    "        return [convert_types(i) for i in data]\n",
    "    elif isinstance(data, (np.int32, np.int64)):\n",
    "        return int(data)\n",
    "    elif isinstance(data, (np.float32, np.float64)):\n",
    "        return float(data)\n",
    "    else:\n",
    "        return data"
   ]
  },
  {
   "cell_type": "code",
   "execution_count": 3,
   "id": "b7ca0c1a-6561-4052-9c02-ff3f4c8d6bc4",
   "metadata": {},
   "outputs": [],
   "source": [
    "dataset = 'adult_small'  # 'adult', 'student', 'adult_small', or 'student_small'"
   ]
  },
  {
   "cell_type": "code",
   "execution_count": 4,
   "id": "f2a4beab-5cbc-4841-8cd9-df5af65f7dcb",
   "metadata": {},
   "outputs": [
    {
     "name": "stdout",
     "output_type": "stream",
     "text": [
      "No prognostics are present in the dataset\n",
      "Confounds:  ['education', 'occupation', 'age', 'native.country']\n",
      "Prognostics:  []\n"
     ]
    }
   ],
   "source": [
    "if dataset == 'adult':\n",
    "    data_file = 'data/processed_adult.csv'\n",
    "    dag_file = 'adult_true_confounds.json'\n",
    "    df_encoded = pd.read_csv(data_file)\n",
    "elif dataset == 'student':\n",
    "    data_file = 'data/processed_student.csv'\n",
    "    dag_file = 'student_true_confounds.json'\n",
    "    df_encoded = pd.read_csv(data_file)\n",
    "elif dataset == 'adult_small':\n",
    "    data_file = 'data/processed_adult_small.csv'\n",
    "    dag_file =  'small_adult_lingam_bk.json'   #'small_adult_true_confounds.json' \n",
    "    df_encoded = pd.read_csv(data_file)\n",
    "elif dataset == 'student_small':\n",
    "    data_file = 'data/processed_student_small.csv'\n",
    "    dag_file =  'small_student_true_confounds.json' \n",
    "    df_encoded = pd.read_csv(data_file)\n",
    "\n",
    "# Extract labels and data\n",
    "labels = df_encoded.columns.tolist()\n",
    "data = df_encoded.to_numpy()\n",
    "\n",
    "# Load DAG and map\n",
    "G, confounds, prognostics = load_dag(dag_file)\n",
    "\n",
    "# Apply variable mapping if student is selected\n",
    "if dataset == 'student' or dataset == 'student_small':\n",
    "    confounds = apply_variable_mapping(confounds, student_variable_mapping)\n",
    "    prognostics = apply_variable_mapping(prognostics, student_variable_mapping)\n",
    "\n",
    "# Filter confounds and prognostics\n",
    "confounds = [var for var in confounds if var in labels]\n",
    "prognostics = [var for var in prognostics if var in labels]\n",
    "\n",
    "if not confounds:\n",
    "    print(\"No confounds are present in the dataset.\")\n",
    "if not prognostics:\n",
    "    print(\"No prognostics are present in the dataset\")\n",
    "\n",
    "print(\"Confounds: \", confounds)\n",
    "print(\"Prognostics: \", prognostics)"
   ]
  },
  {
   "cell_type": "code",
   "execution_count": 5,
   "id": "d081a10c-5d83-40c8-92c1-3ea1e7075e56",
   "metadata": {},
   "outputs": [
    {
     "name": "stdout",
     "output_type": "stream",
     "text": [
      "Before matching - df_encoded shape: (30162, 7)\n",
      "Covariates:  ['education', 'occupation', 'age', 'native.country']\n",
      "X shape:  (30162, 4)\n",
      "X types:  education         int64\n",
      "occupation        int64\n",
      "age               int64\n",
      "native.country    int64\n",
      "dtype: object\n",
      "a shape:  (30162,)\n",
      "a types:  int32\n",
      "y shape:  (30162,)\n",
      "y types:  int64\n",
      "After matching - adjustedCohort length: 30162, unadjustedCohort length: 30162\n"
     ]
    }
   ],
   "source": [
    "if dataset == 'adult' or dataset == 'adult_small':\n",
    "    treatment = 'hours.per.week'\n",
    "    outcome = 'income'\n",
    "elif dataset == 'student' or dataset == 'student_small':\n",
    "    treatment = 'absences'\n",
    "    outcome = 'G_avg'\n",
    "else:\n",
    "    raise ValueError(\"Unknown dataset specified\")\n",
    "\n",
    "# Perform matching\n",
    "print(f\"Before matching - df_encoded shape: {df_encoded.shape}\")\n",
    "adjustedCohort, unadjustedCohort = perform_matching(df_encoded, confounds, prognostics, treatment, outcome)\n",
    "print(f\"After matching - adjustedCohort length: {len(adjustedCohort)}, unadjustedCohort length: {len(unadjustedCohort)}\")"
   ]
  },
  {
   "cell_type": "code",
   "execution_count": 6,
   "id": "888eae3d-d6d2-4b57-92a7-5374746b62b7",
   "metadata": {},
   "outputs": [],
   "source": [
    "adjustedCohort = convert_types(adjustedCohort)\n",
    "unadjustedCohort = convert_types(unadjustedCohort)"
   ]
  },
  {
   "cell_type": "code",
   "execution_count": 7,
   "id": "7d337ff0-d5ee-4e31-b450-dfc168d0d1b2",
   "metadata": {},
   "outputs": [
    {
     "data": {
      "application/vnd.jupyter.widget-view+json": {
       "model_id": "db45d74c5ae24d2cb7135c8e319e1b25",
       "version_major": 2,
       "version_minor": 0
      },
      "text/plain": [
       "CohortEvaluator(component='CohortEvaluator', props={'unadjustedCohort': [{'education': 0.17476277261377215, 'o…"
      ]
     },
     "metadata": {},
     "output_type": "display_data"
    }
   ],
   "source": [
    "cohort_evaluator = CohortEvaluator(unadjustedCohort=unadjustedCohort)\n",
    "display(cohort_evaluator)"
   ]
  },
  {
   "cell_type": "code",
   "execution_count": 8,
   "id": "21e92839-4b89-46b7-a535-15d20b888221",
   "metadata": {},
   "outputs": [
    {
     "name": "stdout",
     "output_type": "stream",
     "text": [
      "Average Treatment Effect (ATE): 0.17281855446118058\n"
     ]
    }
   ],
   "source": [
    "X = df_encoded[confounds + prognostics]\n",
    "a = df_encoded[treatment] >= df_encoded[treatment].median()\n",
    "a = a.astype(int)\n",
    "y = df_encoded[outcome]\n",
    "\n",
    "lr = LogisticRegression(solver='lbfgs', max_iter=1000)\n",
    "ipw = IPW(lr)\n",
    "ipw.fit(X, a)\n",
    "\n",
    "# Calculate the ATE\n",
    "outcomes = ipw.estimate_population_outcome(X, a, y)\n",
    "ate = outcomes[1] - outcomes[0]\n",
    "print(f\"Average Treatment Effect (ATE): {ate}\")"
   ]
  },
  {
   "cell_type": "code",
   "execution_count": null,
   "id": "2c103f30-13a3-4b9e-9e6c-778faf233b37",
   "metadata": {},
   "outputs": [],
   "source": []
  }
 ],
 "metadata": {
  "kernelspec": {
   "display_name": "Python 3 (ipykernel)",
   "language": "python",
   "name": "python3"
  },
  "language_info": {
   "codemirror_mode": {
    "name": "ipython",
    "version": 3
   },
   "file_extension": ".py",
   "mimetype": "text/x-python",
   "name": "python",
   "nbconvert_exporter": "python",
   "pygments_lexer": "ipython3",
   "version": "3.9.19"
  }
 },
 "nbformat": 4,
 "nbformat_minor": 5
}
