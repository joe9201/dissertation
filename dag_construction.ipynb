{
 "cells": [
  {
   "cell_type": "code",
   "execution_count": 3,
   "id": "6b901265-70ea-40a2-9ead-e467dece04d3",
   "metadata": {},
   "outputs": [],
   "source": [
    "from causalvis import DAG\n",
    "import json"
   ]
  },
  {
   "cell_type": "code",
   "execution_count": 4,
   "id": "57e1741b-9fad-4c90-8d92-eabe6a3abf90",
   "metadata": {},
   "outputs": [
    {
     "data": {
      "application/vnd.jupyter.widget-view+json": {
       "model_id": "632a480acd584ce4909f4048d72653a2",
       "version_major": 2,
       "version_minor": 0
      },
      "text/plain": [
       "DAG(component='DAG', props={'attributes': [], 'graph': None})"
      ]
     },
     "execution_count": 4,
     "metadata": {},
     "output_type": "execute_result"
    }
   ],
   "source": [
    "DAG()"
   ]
  },
  {
   "cell_type": "code",
   "execution_count": null,
   "id": "a385496d-f33a-4e2c-9ab4-5c62c4d03c39",
   "metadata": {},
   "outputs": [],
   "source": []
  }
 ],
 "metadata": {
  "kernelspec": {
   "display_name": "Python 3 (ipykernel)",
   "language": "python",
   "name": "python3"
  },
  "language_info": {
   "codemirror_mode": {
    "name": "ipython",
    "version": 3
   },
   "file_extension": ".py",
   "mimetype": "text/x-python",
   "name": "python",
   "nbconvert_exporter": "python",
   "pygments_lexer": "ipython3",
   "version": "3.9.19"
  }
 },
 "nbformat": 4,
 "nbformat_minor": 5
}
