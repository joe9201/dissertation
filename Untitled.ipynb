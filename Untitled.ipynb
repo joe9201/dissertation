{
 "cells": [
  {
   "cell_type": "code",
   "execution_count": 1,
   "id": "8ebb99b8-5d69-41a3-aa19-ead42edf1633",
   "metadata": {},
   "outputs": [],
   "source": [
    "import json\n",
    "from causalvis import DAG"
   ]
  },
  {
   "cell_type": "code",
   "execution_count": 3,
   "id": "be1a3b65-ac3f-4a54-b790-4b3a1ab3f33c",
   "metadata": {},
   "outputs": [
    {
     "data": {
      "application/vnd.jupyter.widget-view+json": {
       "model_id": "e5c87a29562c4881a8897df43a13115d",
       "version_major": 2,
       "version_minor": 0
      },
      "text/plain": [
       "DAG(component='DAG', props={'attributes': [], 'graph': None})"
      ]
     },
     "execution_count": 3,
     "metadata": {},
     "output_type": "execute_result"
    }
   ],
   "source": [
    "DAG()"
   ]
  },
  {
   "cell_type": "code",
   "execution_count": null,
   "id": "425b62fd-10bf-49fe-985e-663cc38b884a",
   "metadata": {},
   "outputs": [],
   "source": []
  }
 ],
 "metadata": {
  "kernelspec": {
   "display_name": "Python 3 (ipykernel)",
   "language": "python",
   "name": "python3"
  },
  "language_info": {
   "codemirror_mode": {
    "name": "ipython",
    "version": 3
   },
   "file_extension": ".py",
   "mimetype": "text/x-python",
   "name": "python",
   "nbconvert_exporter": "python",
   "pygments_lexer": "ipython3",
   "version": "3.9.19"
  }
 },
 "nbformat": 4,
 "nbformat_minor": 5
}
